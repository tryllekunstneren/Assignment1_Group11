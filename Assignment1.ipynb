{
 "cells": [
  {
   "cell_type": "markdown",
   "metadata": {},
   "source": [
    "#### Link to github repo\n",
    "\n",
    "https://github.com/tryllekunstneren/Assignment1_Group11/blob/main/Assignment1.ipynb"
   ]
  },
  {
   "cell_type": "markdown",
   "metadata": {},
   "source": [
    "## Assignment 1: Computational Social Science \n",
    "\n",
    "##### Christian Warburg and Sofus Carstens"
   ]
  },
  {
   "cell_type": "markdown",
   "metadata": {},
   "source": [
    "## Part 1: Web-scraping\n",
    "Week 1, ex 3."
   ]
  },
  {
   "cell_type": "markdown",
   "metadata": {},
   "source": [
    "> **Exercise: Web-scraping the list of participants to the International Conference in Computational Social Science**   "
   ]
  },
  {
   "cell_type": "markdown",
   "metadata": {},
   "source": [
    "> 1. Inspect the HTML of the page and use web-scraping to get the names of all researchers that contributed to the conference in 2023. The goal is the following: (i) get as many names as possible including: keynote speakers, chairs, authors of parallel talks and authors of posters; (ii) ensure that the collected names are complete and accuarate as reported in the website (e.g. both first name and family name); (iii) ensure that no name is repeated multiple times with slightly different spelling. "
   ]
  },
  {
   "cell_type": "markdown",
   "metadata": {},
   "source": [
    "> 2. Some instructions for success: \n",
    ">    * First, inspect the page through your web browser to identify the elements of the page that you want to collect. Ensure you understand the hierarchical structure of the page, and where the elements you are interested in are located within this nested structure.   \n",
    ">    * Use the [BeautifulSoup Python package](https://pypi.org/project/beautifulsoup4/) to navigate through the hierarchy and extract the elements you need from the page. \n",
    ">    * You can use the [find_all](https://www.crummy.com/software/BeautifulSoup/bs4/doc/#find-all) method to find elements that match specific filters. Check the [documentation](https://www.crummy.com/software/BeautifulSoup/bs4/doc/) of the library for detailed explanations on how to set filters.  \n",
    ">    * Parse the strings to ensure that you retrieve \"clean\" author names (e.g. remove commas, or other unwanted charachters)\n",
    ">    * The overall idea is to adapt the procedure I have used [here](https://nbviewer.org/github/lalessan/comsocsci2023/blob/master/additional_notebooks/ScreenScraping.ipynb) for the specific page you are scraping. "
   ]
  },
  {
   "cell_type": "markdown",
   "metadata": {},
   "source": [
    "> 3. Create the set of unique researchers that joined the conference and *store it into a file*.\n",
    ">     * *Important:* If you notice any issue with the list of names you have collected (e.g. duplicate/incorrect names), come up with a strategy to clean your list as much as possible. \n",
    ">\n",
    "##### ANSWER\n",
    "\n",
    "To take care of duplicates, we converted the list of names into a set, and then back to a list. For typos in names, we used fuzzy matching with Python’s difflib. By comparing names with a similarity threshold (0.9), similar entries (e.g., names with typos) were grouped together, and a single representative was chosen for each group."
   ]
  },
  {
   "cell_type": "markdown",
   "metadata": {},
   "source": [
    "> 4. *Optional:* For a more complete represenation of the field, include in your list: (i) the names of researchers from the programme committee of the conference, that can be found at [this link](https://ic2s2-2023.org/program_committee); (ii) the organizers of tutorials, that can be found at [this link](https://ic2s2-2023.org/tutorials)"
   ]
  },
  {
   "cell_type": "markdown",
   "metadata": {},
   "source": [
    "> 5. How many unique researchers do you get?\n",
    "\n",
    "#### Answer\n",
    "We got 1524 unique authors"
   ]
  },
  {
   "cell_type": "markdown",
   "metadata": {},
   "source": [
    "> 6. Explain the process you followed to web-scrape the page. Which choices did you make to accurately retreive as many names as possible? Which strategies did you use to assess the quality of your final list? Explain your reasoning and your choices __(answer in max 150 words)__.\n",
    ">\n",
    "##### Answer:\n",
    "\n",
    "We started by sending a GET request to the target URL and parsing its HTML content using BeautifulSoup. Recognizing that names were enclosed within `<i>` tags, we extracted their text and replaced newline characters for cleaner data. To address cases where multiple names appeared in a single tag, we split the text using “, ” as a delimiter. Converting the resulting list to a set removed duplicates, ensuring only unique names remained. Finally, we created a DataFrame for further validation. We assessed the quality of our final list by verifying the unique count of names and manually inspecting the formatting to confirm consistency and accuracy in retrieval. This systematic approach enabled us to maximize the extraction of correctly formatted names while minimizing redundancy."
   ]
  },
  {
   "cell_type": "code",
   "execution_count": 1,
   "metadata": {},
   "outputs": [
    {
     "name": "stdout",
     "output_type": "stream",
     "text": [
      "Unique names in the list after typo correction: 1455\n",
      "Number of names removed as typos: 44\n",
      "Removed names: ['Xindi Wang', 'Luca Verginer', 'Luca Verginer', 'Duncan J. Watts', 'Duncan J. Watts', 'Duncan J. Watts', 'David M Rothschild', 'Anne C. Kroon', 'Kelton R Minor', 'Kelton R Minor', 'Michele Tizzoni', 'Michele Tizzoni', 'Michele Tizzoni', 'Michele Tizzoni', 'Fabio Carrella', 'Alessandro Flammini', 'Kathyrn R Fair', 'Alexander J Gates', 'Alexander J Gates', 'Alexander J Gates', 'Alexander J Gates', 'Woo-sung Jung', 'Lisette Espin-Noboa', 'Nicholas A Christakis', 'Martin Arvidsson', 'Pantelis P. Analytis', 'Pantelis P Analytis', 'Sonja M Schmer Galunder', 'Bedoor AlShebli', 'Bedoor AlShebli', 'Bedoor AlShebli', 'Mariano Gaston Beiro', 'Diogo Pachecho', 'Marton Karsai', 'Marton Karsai', 'José Javier Ramasco', 'Federico Barrera-Lemarchand', 'Maximilian Schich', 'Scott A. Hale', 'Scott A. Hale', 'Scott A. Hale', 'Marcos A. Oliveira', 'Matthew R DeVerna', 'Ana Maria Jaramillo']\n"
     ]
    }
   ],
   "source": [
    "import requests\n",
    "from bs4 import BeautifulSoup\n",
    "import pandas as pd\n",
    "import difflib\n",
    "import re\n",
    "from collections import Counter\n",
    "\n",
    "# URL of the webpage to scrape\n",
    "link = 'https://ic2s2-2023.org/program'\n",
    "\n",
    "# Send a GET request to the webpage\n",
    "r = requests.get(link)\n",
    "\n",
    "# Parse the content of the webpage with BeautifulSoup using the html.parser\n",
    "soup = BeautifulSoup(r.content, 'html.parser')\n",
    "\n",
    "# Find all <i> tags in the HTML (where names are located)\n",
    "names = soup.find_all('i')\n",
    "\n",
    "# Extract text from each <i> tag and clean up whitespace/newlines\n",
    "raw_names = [tag.get_text(strip=True).replace(\"\\n\", \" \") for tag in names]\n",
    "\n",
    "# Use regex to split on comma followed by any whitespace, then remove quotes\n",
    "names_list = [re.split(r',\\s*', name) for name in raw_names]\n",
    "\n",
    "# Flatten the list and remove quotation marks, and also remove any \"Chair:\" prefix\n",
    "names_flat = [name.strip('\"').replace(\"Chair: \", \"\").replace(\"Chair:\", \"\") \n",
    "              for sublist in names_list for name in sublist]\n",
    "\n",
    "# Count the frequency of each name (optional)\n",
    "name_counts = Counter(names_flat)\n",
    "\n",
    "# Function to group similar names using fuzzy matching\n",
    "def group_similar_names(names, threshold=0.9):\n",
    "    names_copy = names.copy()\n",
    "    groups = []\n",
    "    while names_copy:\n",
    "        base = names_copy.pop(0)\n",
    "        group = [base]\n",
    "        to_remove = []\n",
    "        for other in names_copy:\n",
    "            similarity = difflib.SequenceMatcher(None, base.lower(), other.lower()).ratio()\n",
    "            if similarity >= threshold:\n",
    "                group.append(other)\n",
    "                to_remove.append(other)\n",
    "        for name in to_remove:\n",
    "            names_copy.remove(name)\n",
    "        groups.append(group)\n",
    "    return groups\n",
    "\n",
    "# Group the names with a similarity threshold of 0.9\n",
    "groups = group_similar_names(names_flat, threshold=0.9)\n",
    "\n",
    "# Function to choose the best candidate from a group\n",
    "def choose_best_candidate(group):\n",
    "    return min(group, key=len)\n",
    "\n",
    "final_names = []\n",
    "removed_names = []\n",
    "\n",
    "for group in groups:\n",
    "    candidate = choose_best_candidate(group)\n",
    "    final_names.append(candidate)\n",
    "    removed = [name for name in group if name != candidate]\n",
    "    removed_names.extend(removed)\n",
    "\n",
    "# Create a DataFrame and export to CSV\n",
    "df = pd.DataFrame(final_names, columns=['Author'])\n",
    "df.to_csv('authors.csv', index=False)\n",
    "\n",
    "# Print the results\n",
    "print(f'Unique names in the list after typo correction: {len(df)}')\n",
    "print(f'Number of names removed as typos: {len(removed_names)}')\n",
    "print('Removed names:', removed_names)\n"
   ]
  },
  {
   "cell_type": "markdown",
   "metadata": {},
   "source": [
    "## Part 2: Ready Made vs Custom Made Data\n",
    "Week 2, ex 1."
   ]
  },
  {
   "cell_type": "markdown",
   "metadata": {},
   "source": [
    "> **Exercise: Ready made data vs Custom made data** In this exercise, I want to make sure you have understood they key points of my lecture and the reading. "
   ]
  },
  {
   "cell_type": "markdown",
   "metadata": {},
   "source": [
    "> 1. What are pros and cons of the custom-made data used in Centola's experiment (the first study presented in the lecture) and the ready-made data used in Nicolaides's study (the second study presented in the lecture)? You can support your arguments based on the content of the lecture and the information you read in Chapter 2.3 of the book __(answer in max 150 words)__."
   ]
  },
  {
   "cell_type": "markdown",
   "metadata": {},
   "source": [
    "##### Answer\n",
    "\n",
    "Centola’s experiment used custom-made data, allowing for controlled conditions, precise measurement of social influence, and elimination of confounding variables. Researchers could manipulate network structures and directly observe behavioral changes, ensuring strong internal validity. However, the artificial setting may reduce external validity, as participants might behave differently in real-world contexts. Additionally, sample sizes are often smaller due to resource constraints. Nicolaides’s study used ready-made data from real-world sources, providing large-scale insights into disease transmission and high external validity. However, this data contains biases, lacks control over confounding factors, and may have measurement inaccuracies, such as missing data or inconsistencies in self-reported behaviors. Since observational data is not designed for experimental purposes, causality is harder to establish, requiring careful statistical modeling to infer relationships."
   ]
  },
  {
   "cell_type": "markdown",
   "metadata": {},
   "source": [
    "> 2. How do you think these differences can influence the interpretation of the results in each study? __(answer in max 150 words)__"
   ]
  },
  {
   "cell_type": "markdown",
   "metadata": {},
   "source": [
    "##### Answer\n",
    "\n",
    "Centola’s controlled experiment ensures causality by isolating specific variables, making it easier to identify the mechanisms driving social contagion. However, the findings may not fully capture complex social behaviors outside the lab, limiting their generalizability. The artificial setting may also fail to reflect spontaneous, large-scale diffusion processes. In contrast, Nicolaides’s study reflects real-world patterns of human mobility and interactions, offering valuable insights into disease spread. Yet, the reliance on observational data means that multiple external factors, such as policy interventions or demographic differences, could influence the results. While Nicolaides’s study provides practical, large-scale implications, it requires careful interpretation to avoid confounding correlations with causation. These methodological differences shape how confidently each study’s results can be applied to broader social contexts, particularly in policymaking and behavioral interventions."
   ]
  },
  {
   "cell_type": "markdown",
   "metadata": {},
   "source": [
    "## Part 3: Gathering Research Articles using the OpenAlex API\n",
    "Week 3, ex 1."
   ]
  },
  {
   "cell_type": "markdown",
   "metadata": {},
   "source": [
    "> **Exercise : Collecting Research Articles from IC2S2 Authors**\n",
    ">\n",
    ">In this exercise, we'll leverage the OpenAlex API to gather information on research articles authored by participants of the IC2S2 2024 (NOT 2023) conference, referred to as *IC2S2 authors*. **Before you start, please ensure you read through the entire exercise.**"
   ]
  },
  {
   "cell_type": "markdown",
   "metadata": {},
   "source": [
    "> **Steps:**\n",
    ">  \n",
    "> 1. **Retrieve Data:** Starting with the *authors* you identified in Week 2, Exercise 2, use the OpenAlex API [works endpoint](https://docs.openalex.org/api-entities/works) to fetch the research articles they have authored. For each article, retrieve the following details:\n",
    ">    - _id_: The unique OpenAlex ID for the work.\n",
    ">    - _publication_year_: The year the work was published.\n",
    ">    - _cited_by_count_: The number of times the work has been cited by other works.\n",
    ">    - _author_ids_: The OpenAlex IDs for the authors of the work.\n",
    ">    - _title_: The title of the work.\n",
    ">    - _abstract_inverted_index_: The abstract of the work, formatted as an inverted index.\n",
    "> "
   ]
  },
  {
   "cell_type": "markdown",
   "metadata": {},
   "source": [
    ">     **Important Note on Paging:** By default, the OpenAlex API limits responses to 25 works per request. For more efficient data retrieval, I suggest to adjust this limit to 200 works per request. Even with this adjustment, you will need to implement pagination to access all available works for a given query. This ensures you can systematically retrieve the complete set of works beyond the initial 200. Find guidance on implementing pagination [here](https://docs.openalex.org/how-to-use-the-api/get-lists-of-entities/paging#cursor-paging)."
   ]
  },
  {
   "cell_type": "markdown",
   "metadata": {},
   "source": [
    "> 2. **Data Storage:** Organize the retrieved information into two Pandas DataFrames and save them to two files in a suitable format:\n",
    ">    - The *IC2S2 papers* dataset should include: *id, publication\\_year, cited\\_by\\_count, author\\_ids*.\n",
    ">    - The *IC2S2 abstracts* dataset should include: *id, title, abstract\\_inverted\\_index*.\n",
    ">  "
   ]
  },
  {
   "cell_type": "markdown",
   "metadata": {},
   "source": [
    "> **Filters:**\n",
    "> To ensure the data we collect is relevant and manageable, apply the following filters:\n",
    "> \n",
    ">    - Only include *IC2S2 authors* with a total work count between 5 and 5,000.\n",
    ">    - Retrieve only works that have received more than 10 citations.\n",
    ">    - Limit to works authored by fewer than 10 individuals.\n",
    ">    - Include only works relevant to Computational Social Science (focusing on: Sociology OR Psychology OR Economics OR Political Science) AND intersecting with a quantitative discipline (Mathematics OR Physics OR Computer Science), as defined by their [Concepts](https://docs.openalex.org/api-entities/works/work-object#concepts). *Note*: here we only consider Concepts at *level=0* (the most coarse definition of concepts). "
   ]
  },
  {
   "cell_type": "markdown",
   "metadata": {},
   "source": [
    "> **Efficiency Tips:**\n",
    "> Writing efficient code in this exercise is **crucial**. To speed up your process:\n",
    "> - **Apply filters directly in your request:** When possible, use the [filter parameter](https://docs.openalex.org/api-entities/works/filter-works) of the *works* endpoint to apply the filters above directly in your API request, ensuring only relevant data is returned. Learn about combining multiple filters [here](https://docs.openalex.org/how-to-use-the-api/get-lists-of-entities/filter-entity-lists).  \n",
    "> - **Bulk requests:** Instead of sending one request for each author, you can use the [filter parameter](https://docs.openalex.org/api-entities/works/filter-works) to query works by multiple authors in a single request. *Note: My testing suggests that can only include up to 25 authors per request.*\n",
    "> - **Use multiprocessing:** Implement multiprocessing to handle multiple requests simultaneously. I highly recommmend [Joblib’s Parallel](https://joblib.readthedocs.io/en/stable/) function for that, and [tqdm](https://tqdm.github.io/) can help monitor progress of your jobs. Remember to stay within [the rate limit](https://docs.openalex.org/how-to-use-the-api/rate-limits-and-authentication) of 10 requests per second."
   ]
  },
  {
   "cell_type": "markdown",
   "metadata": {},
   "source": [
    "> **Data Overview and Reflection questions:** Answer the following questions: \n",
    "> - **Dataset summary.** How many works are listed in your *IC2S2 papers* dataframe? How many unique researchers have co-authored these works? \n",
    "> - **Efficiency in code.** Describe the strategies you implemented to make your code more efficient. How did your approach affect your code's execution time? __(answer in max 150 words)__"
   ]
  },
  {
   "cell_type": "markdown",
   "metadata": {},
   "source": [
    "> - **Filtering Criteria and Dataset Relevance** Reflect on the rationale behind setting specific thresholds for the total number of works by an author, the citation count, the number of authors per work, and the relevance of works to specific fields. How do these filtering criteria contribute to the relevance of the dataset you compiled? Do you believe any aspects of Computational Social Science research might be underrepresented or overrepresented as a result of these choices? __(answer in max 150 words)__"
   ]
  },
  {
   "cell_type": "markdown",
   "metadata": {},
   "source": [
    "## Part 4: The Network of Computational Social Scientists\n",
    "Week 4, ex 1. Please use the final dataset you collected from both authors and co-authors (IC2S2 2024)."
   ]
  },
  {
   "cell_type": "code",
   "execution_count": null,
   "metadata": {},
   "outputs": [
    {
     "name": "stdout",
     "output_type": "stream",
     "text": [
      "Could not retrieve ID for Mia Ann Jørgensen. Skipping...\n",
      "Could not retrieve ID for Cristian E Candia. Skipping...\n",
      "Could not retrieve ID for Dingeman Jan Van der Laan. Skipping...\n",
      "Could not retrieve ID for Zeyneb Nahide Kaya. Skipping...\n",
      "Could not retrieve ID for Helena Sophia Rauxloh. Skipping...\n",
      "Could not retrieve ID for Dylan Thurgood. Skipping...\n",
      "Could not retrieve ID for Dafna Yavetz. Skipping...\n",
      "Could not retrieve ID for Laura Maria Alessandretti. Skipping...\n",
      "Could not retrieve ID for Hannah-Marie Büttner. Skipping...\n",
      "Could not retrieve ID for Zhuojian Wei. Skipping...\n",
      "Could not retrieve ID for Pedro RamaciottiMorales. Skipping...\n",
      "Could not retrieve ID for David Mingfei Liu. Skipping...\n",
      "Could not retrieve ID for James Calum Young. Skipping...\n",
      "Could not retrieve ID for Hywel T.P. Williams. Skipping...\n",
      "Could not retrieve ID for Em Bello-Pardo. Skipping...\n",
      "Could not retrieve ID for Martin Ardvisson. Skipping...\n",
      "Could not retrieve ID for Nail Furkan Bashan. Skipping...\n",
      "Could not retrieve ID for Hayato Misumi. Skipping...\n",
      "Could not retrieve ID for Joel Harrison Suss. Skipping...\n",
      "Could not retrieve ID for Rupert Tibor Kiddle. Skipping...\n",
      "Could not retrieve ID for Fengyuan Michael Liu. Skipping...\n",
      "Could not retrieve ID for Zoe K. Rahwan. Skipping...\n",
      "Could not retrieve ID for Christoph Benedikt Gote. Skipping...\n",
      "Could not retrieve ID for Sophia Johanna Schlosser. Skipping...\n",
      "Error fetching works for Rémi Perrier (ID: https://openalex.org/A5013918922).\n",
      "Error fetching works for Laura Hernandez (ID: https://openalex.org/A5065146784).\n",
      "Error fetching works for Mariano Gastón Beiró (ID: https://openalex.org/A5027772279).\n",
      "Error fetching works for José Ignacio Alvarez-Hamelin (ID: https://openalex.org/A5002960328).\n",
      "Error fetching works for Shintaro Igari (ID: https://openalex.org/A5093069271).\n",
      "Error fetching works for Anne Cathrine Linder (ID: https://openalex.org/A5020916633).\n",
      "Error fetching works for David Lusseau (ID: https://openalex.org/A5017444948).\n",
      "Error fetching works for Diogo Pacheco (ID: https://openalex.org/A5087528940).\n",
      "Could not retrieve ID for Jonas Alexander Havstein Eriksen. Skipping...\n",
      "Error fetching works for Valentina Semenova (ID: https://openalex.org/A5071351080).\n",
      "Could not retrieve ID for Julian Winkler. Skipping...\n",
      "Error fetching works for Nicholas Buttrick (ID: https://openalex.org/A5047385425).\n",
      "Could not retrieve ID for Spencer Poodiack Parsons. Skipping...\n",
      "Could not retrieve ID for Tobias Felix Werner. Skipping...\n",
      "Could not retrieve ID for Nils Christopher Köbis. Skipping...\n",
      "Could not retrieve ID for Yurie Iwata. Skipping...\n",
      "Could not retrieve ID for Laura Victoria Lescano. Skipping...\n",
      "Could not retrieve ID for Camila Tsuzuki. Skipping...\n",
      "Could not retrieve ID for Matthew Bramwell Bone. Skipping...\n",
      "Could not retrieve ID for Lorenzo De Masi. Skipping...\n",
      "Could not retrieve ID for Eddie Rossi. Skipping...\n",
      "Could not retrieve ID for Nate Holers. Skipping...\n",
      "Could not retrieve ID for Matt Rocklage. Skipping...\n",
      "Could not retrieve ID for Maximilan Schich. Skipping...\n",
      "Could not retrieve ID for Zhemeng Xie. Skipping...\n",
      "Could not retrieve ID for Valentin Pauli. Skipping...\n",
      "Could not retrieve ID for Manju Bura. Skipping...\n",
      "Could not retrieve ID for Amy Munz. Skipping...\n",
      "Could not retrieve ID for Pearl Pandya. Skipping...\n",
      "Could not retrieve ID for Max Lagencamp. Skipping...\n",
      "Could not retrieve ID for OcÃ©ane Boulais. Skipping...\n",
      "Could not retrieve ID for Elisabet CarbÃ³ Catalan. Skipping...\n",
      "Could not retrieve ID for CalvinYixiang Cheng. Skipping...\n",
      "Could not retrieve ID for Ashlyn B. Aske. Skipping...\n",
      "Could not retrieve ID for Connor Cantrell. Skipping...\n",
      "Could not retrieve ID for AnnaSeo Gyeong Choi. Skipping...\n",
      "Could not retrieve ID for Sam Heroy. Skipping...\n",
      "Could not retrieve ID for Rémi Suchonn. Skipping...\n",
      "Could not retrieve ID for Allison Christine Morgan. Skipping...\n",
      "Could not retrieve ID for Lea Biere. Skipping...\n",
      "Could not retrieve ID for Silvia Ioana Fierăscu. Skipping...\n",
      "Could not retrieve ID for Jesús A. Prieto-Alonso. Skipping...\n",
      "Could not retrieve ID for Maxim Derex. Skipping...\n",
      "Could not retrieve ID for Jason Hiigh Thompson. Skipping...\n",
      "Could not retrieve ID for Scott McClean. Skipping...\n",
      "Could not retrieve ID for Lama Abdulrahman Alqazlan. Skipping...\n",
      "Could not retrieve ID for Alexandra Rottenkolber. Skipping...\n",
      "Could not retrieve ID for Frank Pantano. Skipping...\n",
      "Could not retrieve ID for Vrushabh Vilas Wadnere. Skipping...\n",
      "Could not retrieve ID for Nicholas J Pangakis. Skipping...\n",
      "Could not retrieve ID for Sami Alexej Nenno. Skipping...\n",
      "Could not retrieve ID for Zishan Lan. Skipping...\n",
      "Could not retrieve ID for Jakob Schlierf. Skipping...\n",
      "Could not retrieve ID for Lui Ruck. Skipping...\n",
      "Could not retrieve ID for Denis E Hudon. Skipping...\n",
      "Could not retrieve ID for Belén C Saldías Fuentes. Skipping...\n",
      "Could not retrieve ID for Amirhossein Nakhaei. Skipping...\n",
      "Could not retrieve ID for Julia Huschens. Skipping...\n",
      "Could not retrieve ID for Ryan Louis Stevens. Skipping...\n",
      "Could not retrieve ID for Srdja Dragovic. Skipping...\n",
      "Could not retrieve ID for Andrea Leigh Courtney. Skipping...\n"
     ]
    }
   ],
   "source": [
    "import pandas as pd\n",
    "import requests\n",
    "from joblib import Parallel, delayed\n",
    "from tqdm import tqdm\n",
    "\n",
    "# Dummy implementation for get_author_id.\n",
    "# In practice, replace this with your actual logic for fetching author IDs.\n",
    "def get_author_id(author_name):\n",
    "    \"\"\"\n",
    "    Retrieve the OpenAlex ID for an author given their name.\n",
    "    Uses a search query (which is broader than filter) and cleans the name.\n",
    "    \"\"\"\n",
    "    try:\n",
    "        # Remove any prefixes like \"Chair:\" and extra whitespace.\n",
    "        clean_name = author_name.replace(\"Chair:\", \"\").strip()\n",
    "        pager = Authors().search(clean_name).paginate(per_page=1)\n",
    "        for page in pager:\n",
    "            if page:\n",
    "                return page[0].get(\"id\")\n",
    "        return None\n",
    "    except Exception as e:\n",
    "        #print(f\"Error fetching id for author {author_name}: {e}\")\n",
    "        return None\n",
    "\n",
    "def chunks(lst, n):\n",
    "    \"\"\"Yield successive n-sized chunks from lst.\"\"\"\n",
    "    for i in range(0, len(lst), n):\n",
    "        yield lst[i:i+n]\n",
    "\n",
    "# Assume valid_authors is already defined (a list of author names).\n",
    "# Convert valid author names into OpenAlex IDs.\n",
    "import requests\n",
    "authors_df = pd.read_csv('authors.csv')\n",
    "valid_authors = []\n",
    "\n",
    "for index, row in authors_df.iterrows():\n",
    "    author_name = row[\"Author\"]\n",
    "    #print(f\"Processing author: {author_name}\")\n",
    "    author_id = get_author_id(author_name)\n",
    "    if author_id is None:\n",
    "        print(f\"Could not retrieve ID for {author_name}. Skipping...\")\n",
    "        continue\n",
    "\n",
    "    # Build the works endpoint URL using the retrieved author ID\n",
    "    works_url = f\"https://api.openalex.org/works?filter=author.id:{author_id}\"\n",
    "    response = requests.get(works_url)\n",
    "    if response.status_code != 200:\n",
    "        print(f\"Error fetching works for {author_name} (ID: {author_id}).\")\n",
    "        continue\n",
    "\n",
    "    data = response.json()\n",
    "    # Get the total number of works from the meta data\n",
    "    work_count = data.get(\"meta\", {}).get(\"count\", 0)\n",
    "\n",
    "    # Use a logical AND to ensure work count is between 5 and 5000\n",
    "    if work_count > 5 and work_count < 5000:\n",
    "        valid_authors.append(author_name)\n",
    "        \n",
    "valid_author_ids = [get_author_id(author) for author in valid_authors if get_author_id(author) is not None]\n",
    "\n",
    "def fetch_works_for_authors(author_ids_chunk):\n",
    "    \"\"\"\n",
    "    Fetch works for a chunk of authors (up to 25) with a filter for cited_by_count > 10.\n",
    "    The author filter is built using the OR operator (pipe-delimited).\n",
    "    \"\"\"\n",
    "    # Build the author filter (pipe-delimited for OR).\n",
    "    author_filter = \"|\".join(author_ids_chunk)\n",
    "    # Construct the API URL with filters for authors and citation count.\n",
    "    url = f\"https://api.openalex.org/works?filter=author.id:{author_filter},cited_by_count:>10\"\n",
    "    response = requests.get(url)\n",
    "    if response.status_code != 200:\n",
    "         print(f\"Error fetching authors {author_ids_chunk}: {response.status_code}\")\n",
    "         return []\n",
    "    data = response.json()\n",
    "    return data.get(\"results\", [])\n",
    "\n",
    "# Create chunks of up to 25 author IDs.\n",
    "author_chunks = list(chunks(valid_author_ids, 25))\n",
    "\n",
    "# Use multiprocessing to fetch works concurrently for each chunk.\n",
    "results = Parallel(n_jobs=-1)(\n",
    "    delayed(fetch_works_for_authors)(chunk) for chunk in tqdm(author_chunks, desc=\"Fetching works\")\n",
    ")\n",
    "\n",
    "# Flatten the list of lists into a single list of works.\n",
    "all_works = [work for sublist in results for work in sublist]\n",
    "\n",
    "# Define the concept sets (level=0) for filtering.\n",
    "social_concepts = {\"Sociology\", \"Psychology\", \"Economics\", \"Political Science\"}\n",
    "quantitative_concepts = {\"Mathematics\", \"Physics\", \"Computer Science\"}\n",
    "\n",
    "# Post-filter: Discard works with >10 authors and apply the concept filtering.\n",
    "valid_works = []\n",
    "for work in all_works:\n",
    "    # Discard works with more than 10 authors.\n",
    "    if len(work.get(\"authorships\", [])) > 10:\n",
    "        continue\n",
    "    \n",
    "    # Filter concepts at level=0.\n",
    "    level0_concepts = [c for c in work.get(\"concepts\", []) if c.get(\"level\") == 0]\n",
    "    \n",
    "    # Check for at least one social concept.\n",
    "    if not any(c.get(\"display_name\") in social_concepts for c in level0_concepts):\n",
    "        continue\n",
    "    \n",
    "    # Check for at least one quantitative concept.\n",
    "    if not any(c.get(\"display_name\") in quantitative_concepts for c in level0_concepts):\n",
    "        continue\n",
    "    \n",
    "    valid_works.append(work)\n",
    "\n",
    "# -------------------------------\n",
    "# Create the IC2S2 papers dataset.\n",
    "# Columns: id, publication_year, cited_by_count, author_names (as a list)\n",
    "papers_records = []\n",
    "for work in valid_works:\n",
    "    work_id = work.get(\"id\")\n",
    "    publication_year = work.get(\"publication_year\")\n",
    "    cited_by_count = work.get(\"cited_by_count\", 0)\n",
    "    \n",
    "    # Extract author names from the authorship information.\n",
    "    author_names = [\n",
    "        authorship.get(\"author\", {}).get(\"display_name\", \"\")\n",
    "        for authorship in work.get(\"authorships\", [])\n",
    "        if authorship.get(\"author\", {}).get(\"display_name\")\n",
    "    ]\n",
    "    \n",
    "    papers_records.append({\n",
    "        \"id\": work_id,\n",
    "        \"publication_year\": publication_year,\n",
    "        \"cited_by_count\": cited_by_count,\n",
    "        \"author_names\": author_names\n",
    "    })\n",
    "\n",
    "df_papers = pd.DataFrame(papers_records)\n",
    "df_papers.to_csv(\"IC2S2_papers.csv\", index=False)\n",
    "print(\"CSV file 'IC2S2_papers.csv' saved successfully.\")\n",
    "\n",
    "# -------------------------------\n",
    "# Create the IC2S2 abstracts dataset.\n",
    "# Columns: id, title, abstract_inverted_index\n",
    "abstract_records = []\n",
    "for work in valid_works:\n",
    "    work_id = work.get(\"id\")\n",
    "    title = work.get(\"title\")\n",
    "    abstract_inverted_index = work.get(\"abstract_inverted_index\", {})\n",
    "    \n",
    "    abstract_records.append({\n",
    "        \"id\": work_id,\n",
    "        \"title\": title,\n",
    "        \"abstract_inverted_index\": abstract_inverted_index\n",
    "    })\n",
    "\n",
    "df_abstracts = pd.DataFrame(abstract_records)\n",
    "df_abstracts.to_csv(\"IC2S2_abstracts.csv\", index=False)\n",
    "print(\"CSV file 'IC2S2_abstracts.csv' saved successfully.\")\n",
    "\n",
    "\n"
   ]
  },
  {
   "cell_type": "markdown",
   "metadata": {},
   "source": [
    "> **Exercise: Constructing the Computational Social Scientists Network**\n",
    ">\n",
    "> In this exercise, we will create a network of researchers in the field of Computational Social Science using the NetworkX library. In our network, nodes represent authors of academic papers, with a direct link from node _A_ to node _B_ indicating a joint paper written by both. The link's weight reflects the number of papers written by both _A_ and _B_."
   ]
  },
  {
   "cell_type": "markdown",
   "metadata": {},
   "source": [
    "> **Part 1: Network Construction**\n",
    ">"
   ]
  },
  {
   "cell_type": "markdown",
   "metadata": {},
   "source": [
    "> 1. **Weighted Edgelist Creation:** Start with your dataframe of *papers*. Construct a _weighted edgelist_ where each list element is a tuple containing three elements: the _author ids_ of two collaborating authors and the total number of papers they've co-authored. Ensure each author pair is listed only once. "
   ]
  },
  {
   "cell_type": "markdown",
   "metadata": {},
   "source": [
    "> 2. **Graph Construction:**\n",
    ">    - Use NetworkX to create an undirected [``Graph``](https://networkx.org/documentation/stable/reference/classes/graph.html).\n",
    ">    - Employ the [`add_weighted_edges_from`](https://networkx.org/documentation/stable/reference/classes/generated/networkx.Graph.add_weighted_edges_from.html#networkx.Graph.add_weighted_edges_from) function to populate the graph with the weighted edgelist from step 1, c"
   ]
  },
  {
   "cell_type": "markdown",
   "metadata": {},
   "source": [
    "> 3. **Node Attributes:**\n",
    ">    - For each node, add attributes for the author's _display name_, _country_, _citation count_, and the _year of their first publication_ in Computational Social Science. The _display name_ and _country_ can be retrieved from your _authors_ dataset. The _year of their first publication_ and the _citation count_  can be retrieved from the _papers_ dataset.\n",
    ">    - Save the network as a JSON file."
   ]
  },
  {
   "cell_type": "markdown",
   "metadata": {},
   "source": [
    "> **Part 2: Preliminary Network Analysis**\n",
    "> Now, with the network constructed, perform a basic analysis to explore its features."
   ]
  },
  {
   "cell_type": "markdown",
   "metadata": {},
   "source": [
    "> 1. **Network Metrics:**\n",
    ">    - What is the total number of nodes (authors) and links (collaborations) in the network? \n",
    ">    - Calculate the network's density (the ratio of actual links to the maximum possible number of links). Would you say that the network is sparse? Justify your answer."
   ]
  },
  {
   "cell_type": "markdown",
   "metadata": {},
   "source": [
    ">    - Is the network fully connected (i.e., is there a direct or indirect path between every pair of nodes within the network), or is it disconnected?\n",
    ">    - If the network is disconnected, how many connected components does it have? A connected component is defined as a subset of nodes within the network where a path exists between any pair of nodes in that subset. \n",
    ">    - How many isolated nodes are there in your network?  An isolated node is defined as a node with no connections to any other node in the network.\n",
    ">    - Discuss the results above on network density, and connectivity. Are your findings in line with what you expected? Why?  __(answer in max 150 words)__\n",
    "> "
   ]
  },
  {
   "cell_type": "markdown",
   "metadata": {},
   "source": [
    "> 3. **Degree Analysis:**\n",
    ">    - Compute the average, median, mode, minimum, and maximum degree of the nodes. Perform the same analysis for node strength (weighted degree). What do these metrics tell us "
   ]
  },
  {
   "cell_type": "markdown",
   "metadata": {},
   "source": [
    "> 4. **Top Authors:**\n",
    ">    - Identify the top 5 authors by degree. What role do these node play in the network? "
   ]
  },
  {
   "cell_type": "markdown",
   "metadata": {},
   "source": [
    ">    - Research these authors online. What areas do they specialize in? Do you think that their work aligns with the themes of Computational Social Science? If not, what could be possible reasons? __(answer in max 150 words)__"
   ]
  }
 ],
 "metadata": {
  "kernelspec": {
   "display_name": "base",
   "language": "python",
   "name": "python3"
  },
  "language_info": {
   "codemirror_mode": {
    "name": "ipython",
    "version": 3
   },
   "file_extension": ".py",
   "mimetype": "text/x-python",
   "name": "python",
   "nbconvert_exporter": "python",
   "pygments_lexer": "ipython3",
   "version": "3.11.3"
  }
 },
 "nbformat": 4,
 "nbformat_minor": 2
}
