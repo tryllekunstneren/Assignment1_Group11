{
 "cells": [
  {
   "cell_type": "markdown",
   "metadata": {},
   "source": [
    "#### Link to github repo\n",
    "\n",
    "https://github.com/tryllekunstneren/Assignment1_Group11/blob/main/Assignment1.ipynb"
   ]
  },
  {
   "cell_type": "markdown",
   "metadata": {},
   "source": [
    "## Assignment 1: Computational Social Science \n",
    "\n",
    "##### Christian Warburg and Sofus Carstens"
   ]
  },
  {
   "cell_type": "markdown",
   "metadata": {},
   "source": [
    "> **Exercise: Web-scraping the list of participants to the International Conference in Computational Social Science**   "
   ]
  }
 ],
 "metadata": {
  "language_info": {
   "name": "python"
  }
 },
 "nbformat": 4,
 "nbformat_minor": 2
}
